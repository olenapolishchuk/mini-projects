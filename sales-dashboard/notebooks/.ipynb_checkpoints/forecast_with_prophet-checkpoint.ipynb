{
 "cells": [
  {
   "cell_type": "markdown",
   "id": "3f9ff3b9",
   "metadata": {},
   "source": [
    "# Forecasting Monthly Revenue using Prophet"
   ]
  },
  {
   "cell_type": "code",
   "execution_count": null,
   "id": "12931707",
   "metadata": {},
   "outputs": [],
   "source": [
    "import pandas as pd\n",
    "import numpy as np\n",
    "from prophet import Prophet\n",
    "from sklearn.metrics import mean_absolute_error, mean_squared_error\n",
    "import matplotlib.pyplot as plt\n",
    "import matplotlib.dates as mdates\n",
    "\n",
    "# Load cleaned data\n",
    "df = pd.read_excel(\"cleaned_sales_data.xlsx\")\n",
    "df['Date'] = pd.to_datetime(df['Date'])\n",
    "df['Month'] = df['Date'].dt.to_period('M').dt.to_timestamp()\n",
    "monthly = df.groupby('Month')['Revenue'].sum().reset_index()\n",
    "monthly.columns = ['ds', 'y']\n",
    "monthly.head()"
   ]
  },
  {
   "cell_type": "markdown",
   "id": "08eb8e5b",
   "metadata": {},
   "source": [
    "## Train/Test Split"
   ]
  },
  {
   "cell_type": "code",
   "execution_count": null,
   "id": "be73daeb",
   "metadata": {},
   "outputs": [],
   "source": [
    "train = monthly.iloc[:-3]\n",
    "test = monthly.iloc[-3:]\n",
    "print(f\"Train: {train['ds'].min().date()} to {train['ds'].max().date()}\")\n",
    "print(f\"Test: {test['ds'].min().date()} to {test['ds'].max().date()}\")"
   ]
  },
  {
   "cell_type": "markdown",
   "id": "b611e4cc",
   "metadata": {},
   "source": [
    "## Train Prophet Model"
   ]
  },
  {
   "cell_type": "code",
   "execution_count": null,
   "id": "d61b2a76",
   "metadata": {},
   "outputs": [],
   "source": [
    "model = Prophet()\n",
    "model.fit(train)\n",
    "\n",
    "# Forecast\n",
    "future = model.make_future_dataframe(periods=3, freq='MS')\n",
    "forecast = model.predict(future)\n",
    "\n",
    "# Evaluation\n",
    "y_true = test['y'].values\n",
    "y_pred = forecast.iloc[-6:-3]['yhat'].values\n",
    "mae = mean_absolute_error(y_true, y_pred)\n",
    "rmse = np.sqrt(mean_squared_error(y_true, y_pred))\n",
    "print(f\"MAE: {mae:.2f}\")\n",
    "print(f\"RMSE: {rmse:.2f}\")\n"
   ]
  },
  {
   "cell_type": "markdown",
   "id": "af2687ae",
   "metadata": {},
   "source": [
    "## Forecast Plot"
   ]
  },
  {
   "cell_type": "code",
   "execution_count": null,
   "id": "dfb0f2de",
   "metadata": {},
   "outputs": [],
   "source": [
    "fig = model.plot(forecast)\n",
    "plt.title(\"Monthly Revenue Forecast with Prophet\")\n",
    "plt.xlabel(\"Date\")\n",
    "plt.ylabel(\"Revenue\")\n",
    "plt.grid(True)\n",
    "plt.tight_layout()\n",
    "plt.show()"
   ]
  },
  {
   "cell_type": "markdown",
   "id": "8a9c614e",
   "metadata": {},
   "source": [
    "## Forecast for Next 3 Months"
   ]
  },
  {
   "cell_type": "code",
   "execution_count": null,
   "id": "48aed5eb",
   "metadata": {},
   "outputs": [],
   "source": [
    "future_forecast = forecast[['ds', 'yhat']].iloc[-3:]\n",
    "for row in future_forecast.itertuples(index=False):\n",
    "    print(f\"Forecast {row.ds.strftime('%Y-%m')}: {row.yhat:,.2f}\")"
   ]
  }
 ],
 "metadata": {
  "kernelspec": {
   "display_name": "Python 3 (ipykernel)",
   "language": "python",
   "name": "python3"
  },
  "language_info": {
   "codemirror_mode": {
    "name": "ipython",
    "version": 3
   },
   "file_extension": ".py",
   "mimetype": "text/x-python",
   "name": "python",
   "nbconvert_exporter": "python",
   "pygments_lexer": "ipython3",
   "version": "3.11.7"
  }
 },
 "nbformat": 4,
 "nbformat_minor": 5
}
