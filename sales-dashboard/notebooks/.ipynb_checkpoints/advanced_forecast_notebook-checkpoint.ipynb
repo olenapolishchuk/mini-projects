{
 "cells": [
  {
   "cell_type": "markdown",
   "metadata": {},
   "source": [
    "# Forecasting Monthly Revenue with Exponential Smoothing\n",
    "\n",
    "This notebook loads prepared sales data and applies Exponential Smoothing to forecast revenue."
   ]
  },
  {
   "cell_type": "code",
   "execution_count": null,
   "metadata": {},
   "outputs": [],
   "source": [
    "import pandas as pd\n",
    "import numpy as np\n",
    "import matplotlib.pyplot as plt\n",
    "from statsmodels.tsa.holtwinters import ExponentialSmoothing\n",
    "from sklearn.metrics import mean_absolute_error, mean_squared_error\n",
    "\n",
    "# Load cleaned data\n",
    "df = pd.read_excel('../data/cleaned_sales_data.xlsx')\n",
    "df['Date'] = pd.to_datetime(df['Date'])\n",
    "df['Month'] = df['Date'].dt.to_period('M').dt.to_timestamp()\n",
    "\n",
    "# Monthly revenue aggregation\n",
    "monthly = df.groupby('Month')['Revenue'].sum().sort_index()\n",
    "monthly.tail()"
   ]
  },
  {
   "cell_type": "markdown",
   "metadata": {},
   "source": [
    "## Train/Test Split"
   ]
  },
  {
   "cell_type": "code",
   "execution_count": null,
   "metadata": {},
   "outputs": [],
   "source": [
    "train = monthly.iloc[:-3]\n",
    "test = monthly.iloc[-3:]\n",
    "\n",
    "print(f\"Train months: {train.index.min()} to {train.index.max()}\")\n",
    "print(f\"Test months: {test.index.min()} to {test.index.max()}\")"
   ]
  },
  {
   "cell_type": "markdown",
   "metadata": {},
   "source": [
    "## Train Exponential Smoothing Model"
   ]
  },
  {
   "cell_type": "code",
   "execution_count": null,
   "metadata": {},
   "outputs": [],
   "source": [
    "model = ExponentialSmoothing(train, trend='add', seasonal=None)\n",
    "fitted = model.fit()\n",
    "forecast = fitted.forecast(len(test))\n",
    "\n",
    "# Metrics\n",
    "mae = mean_absolute_error(test, forecast)\n",
    "rmse = np.sqrt(mean_squared_error(test, forecast))\n",
    "print(f\"Test MAE: {mae:.2f}\")\n",
    "print(f\"Test RMSE: {rmse:.2f}\")"
   ]
  },
  {
   "cell_type": "markdown",
   "metadata": {},
   "source": [
    "## Forecast Next 3 Months"
   ]
  },
  {
   "cell_type": "code",
   "execution_count": null,
   "metadata": {},
   "outputs": [],
   "source": [
    "future_dates = pd.date_range(monthly.index[-1] + pd.offsets.MonthBegin(), periods=3, freq='MS')\n",
    "future_forecast = fitted.forecast(len(test) + 3)[-3:]\n",
    "\n",
    "for date, val in zip(future_dates.strftime('%Y-%m'), future_forecast):\n",
    "    print(f\"Forecast {date}: {val:,.2f}\")"
   ]
  },
  {
   "cell_type": "markdown",
   "metadata": {},
   "source": [
    "## Plot Forecast"
   ]
  },
  {
   "cell_type": "code",
   "execution_count": null,
   "metadata": {},
   "outputs": [],
   "source": [
    "plt.figure(figsize=(10,5))\n",
    "plt.plot(train.index, train.values, label='Train', marker='o')\n",
    "plt.plot(test.index, test.values, label='Test (actual)', marker='o')\n",
    "plt.plot(test.index, forecast.values, label='Test (forecast)', linestyle='--', marker='x')\n",
    "plt.plot(future_dates, future_forecast.values, label='Future Forecast', linestyle='--', marker='^')\n",
    "plt.title('Monthly Revenue Forecast with Exponential Smoothing')\n",
    "plt.xlabel('Month')\n",
    "plt.ylabel('Revenue')\n",
    "plt.legend()\n",
    "plt.grid(True)\n",
    "plt.tight_layout()\n",
    "plt.show()"
   ]
  }
 ],
 "metadata": {
  "kernelspec": {
   "display_name": "Python 3 (ipykernel)",
   "language": "python",
   "name": "python3"
  },
  "language_info": {
   "codemirror_mode": {
    "name": "ipython",
    "version": 3
   },
   "file_extension": ".py",
   "mimetype": "text/x-python",
   "name": "python",
   "nbconvert_exporter": "python",
   "pygments_lexer": "ipython3",
   "version": "3.11.7"
  }
 },
 "nbformat": 4,
 "nbformat_minor": 4
}
