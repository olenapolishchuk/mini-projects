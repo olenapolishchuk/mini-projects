{
 "cells": [
  {
   "cell_type": "markdown",
   "id": "2e8e85ba",
   "metadata": {},
   "source": [
    "# HR Analytics Automation\n",
    "This notebook demonstrates how to generate an automated HR report from an Excel dataset using Python."
   ]
  },
  {
   "cell_type": "code",
   "execution_count": 1,
   "id": "91dca4e6",
   "metadata": {},
   "outputs": [
    {
     "data": {
      "text/html": [
       "<div>\n",
       "<style scoped>\n",
       "    .dataframe tbody tr th:only-of-type {\n",
       "        vertical-align: middle;\n",
       "    }\n",
       "\n",
       "    .dataframe tbody tr th {\n",
       "        vertical-align: top;\n",
       "    }\n",
       "\n",
       "    .dataframe thead th {\n",
       "        text-align: right;\n",
       "    }\n",
       "</style>\n",
       "<table border=\"1\" class=\"dataframe\">\n",
       "  <thead>\n",
       "    <tr style=\"text-align: right;\">\n",
       "      <th></th>\n",
       "      <th>Employee ID</th>\n",
       "      <th>Department</th>\n",
       "      <th>Hire Date</th>\n",
       "      <th>Salary</th>\n",
       "      <th>Status</th>\n",
       "      <th>Exit Date</th>\n",
       "    </tr>\n",
       "  </thead>\n",
       "  <tbody>\n",
       "    <tr>\n",
       "      <th>0</th>\n",
       "      <td>E1000</td>\n",
       "      <td>Marketing</td>\n",
       "      <td>2022-05-22</td>\n",
       "      <td>31802</td>\n",
       "      <td>Exited</td>\n",
       "      <td>2026-02-23</td>\n",
       "    </tr>\n",
       "    <tr>\n",
       "      <th>1</th>\n",
       "      <td>E1001</td>\n",
       "      <td>Sales</td>\n",
       "      <td>2020-09-08</td>\n",
       "      <td>38155</td>\n",
       "      <td>Active</td>\n",
       "      <td>NaT</td>\n",
       "    </tr>\n",
       "    <tr>\n",
       "      <th>2</th>\n",
       "      <td>E1002</td>\n",
       "      <td>Finance</td>\n",
       "      <td>2016-10-15</td>\n",
       "      <td>38120</td>\n",
       "      <td>Active</td>\n",
       "      <td>NaT</td>\n",
       "    </tr>\n",
       "    <tr>\n",
       "      <th>3</th>\n",
       "      <td>E1003</td>\n",
       "      <td>Sales</td>\n",
       "      <td>2015-04-20</td>\n",
       "      <td>69384</td>\n",
       "      <td>Active</td>\n",
       "      <td>NaT</td>\n",
       "    </tr>\n",
       "    <tr>\n",
       "      <th>4</th>\n",
       "      <td>E1004</td>\n",
       "      <td>Sales</td>\n",
       "      <td>2016-05-22</td>\n",
       "      <td>77025</td>\n",
       "      <td>Active</td>\n",
       "      <td>NaT</td>\n",
       "    </tr>\n",
       "  </tbody>\n",
       "</table>\n",
       "</div>"
      ],
      "text/plain": [
       "  Employee ID Department  Hire Date  Salary  Status  Exit Date\n",
       "0       E1000  Marketing 2022-05-22   31802  Exited 2026-02-23\n",
       "1       E1001      Sales 2020-09-08   38155  Active        NaT\n",
       "2       E1002    Finance 2016-10-15   38120  Active        NaT\n",
       "3       E1003      Sales 2015-04-20   69384  Active        NaT\n",
       "4       E1004      Sales 2016-05-22   77025  Active        NaT"
      ]
     },
     "execution_count": 1,
     "metadata": {},
     "output_type": "execute_result"
    }
   ],
   "source": [
    "import pandas as pd\n",
    "from openpyxl import Workbook\n",
    "from openpyxl.styles import Font\n",
    "from openpyxl.utils.dataframe import dataframe_to_rows\n",
    "\n",
    "# Load the input Excel data\n",
    "df = pd.read_excel(\"hr_employee_data.xlsx\")\n",
    "df.head()\n"
   ]
  },
  {
   "cell_type": "markdown",
   "id": "9afb587f",
   "metadata": {},
   "source": [
    "## Step 1: Calculate Key Metrics"
   ]
  },
  {
   "cell_type": "code",
   "execution_count": 2,
   "id": "db6e4d62",
   "metadata": {},
   "outputs": [
    {
     "data": {
      "text/plain": [
       "{'Total Employees': 100,\n",
       " 'Active Employees': 67,\n",
       " 'Exited Employees': 33,\n",
       " 'Average Salary': 59197.89}"
      ]
     },
     "execution_count": 2,
     "metadata": {},
     "output_type": "execute_result"
    }
   ],
   "source": [
    "report = {}\n",
    "report['Total Employees'] = len(df)\n",
    "report['Active Employees'] = (df['Status'] == 'Active').sum()\n",
    "report['Exited Employees'] = (df['Status'] == 'Exited').sum()\n",
    "report['Average Salary'] = df['Salary'].mean()\n",
    "report\n"
   ]
  },
  {
   "cell_type": "markdown",
   "id": "fab92ec8",
   "metadata": {},
   "source": [
    "## Step 2: Compute Tenure for Exited Employees"
   ]
  },
  {
   "cell_type": "code",
   "execution_count": 3,
   "id": "b6c53c2d",
   "metadata": {},
   "outputs": [
    {
     "data": {
      "text/html": [
       "<div>\n",
       "<style scoped>\n",
       "    .dataframe tbody tr th:only-of-type {\n",
       "        vertical-align: middle;\n",
       "    }\n",
       "\n",
       "    .dataframe tbody tr th {\n",
       "        vertical-align: top;\n",
       "    }\n",
       "\n",
       "    .dataframe thead th {\n",
       "        text-align: right;\n",
       "    }\n",
       "</style>\n",
       "<table border=\"1\" class=\"dataframe\">\n",
       "  <thead>\n",
       "    <tr style=\"text-align: right;\">\n",
       "      <th></th>\n",
       "      <th>Department</th>\n",
       "      <th>Tenure (years)</th>\n",
       "    </tr>\n",
       "  </thead>\n",
       "  <tbody>\n",
       "    <tr>\n",
       "      <th>0</th>\n",
       "      <td>Finance</td>\n",
       "      <td>2.728571</td>\n",
       "    </tr>\n",
       "    <tr>\n",
       "      <th>1</th>\n",
       "      <td>HR</td>\n",
       "      <td>3.016667</td>\n",
       "    </tr>\n",
       "    <tr>\n",
       "      <th>2</th>\n",
       "      <td>IT</td>\n",
       "      <td>3.400000</td>\n",
       "    </tr>\n",
       "    <tr>\n",
       "      <th>3</th>\n",
       "      <td>Marketing</td>\n",
       "      <td>3.166667</td>\n",
       "    </tr>\n",
       "    <tr>\n",
       "      <th>4</th>\n",
       "      <td>Sales</td>\n",
       "      <td>2.800000</td>\n",
       "    </tr>\n",
       "  </tbody>\n",
       "</table>\n",
       "</div>"
      ],
      "text/plain": [
       "  Department  Tenure (years)\n",
       "0    Finance        2.728571\n",
       "1         HR        3.016667\n",
       "2         IT        3.400000\n",
       "3  Marketing        3.166667\n",
       "4      Sales        2.800000"
      ]
     },
     "execution_count": 3,
     "metadata": {},
     "output_type": "execute_result"
    }
   ],
   "source": [
    "df['Tenure (years)'] = ((df['Exit Date'] - df['Hire Date']).dt.days / 365).round(1)\n",
    "avg_tenure_by_dept = df[df['Status'] == 'Exited'].groupby('Department')['Tenure (years)'].mean().reset_index()\n",
    "avg_tenure_by_dept\n"
   ]
  },
  {
   "cell_type": "markdown",
   "id": "78ab1503",
   "metadata": {},
   "source": [
    "## Step 3: Calculate Turnover Rate by Department"
   ]
  },
  {
   "cell_type": "code",
   "execution_count": 4,
   "id": "e6e73109",
   "metadata": {},
   "outputs": [
    {
     "data": {
      "text/html": [
       "<div>\n",
       "<style scoped>\n",
       "    .dataframe tbody tr th:only-of-type {\n",
       "        vertical-align: middle;\n",
       "    }\n",
       "\n",
       "    .dataframe tbody tr th {\n",
       "        vertical-align: top;\n",
       "    }\n",
       "\n",
       "    .dataframe thead th {\n",
       "        text-align: right;\n",
       "    }\n",
       "</style>\n",
       "<table border=\"1\" class=\"dataframe\">\n",
       "  <thead>\n",
       "    <tr style=\"text-align: right;\">\n",
       "      <th>Status</th>\n",
       "      <th>Department</th>\n",
       "      <th>Turnover Rate (%)</th>\n",
       "    </tr>\n",
       "  </thead>\n",
       "  <tbody>\n",
       "    <tr>\n",
       "      <th>0</th>\n",
       "      <td>Finance</td>\n",
       "      <td>43.8</td>\n",
       "    </tr>\n",
       "    <tr>\n",
       "      <th>1</th>\n",
       "      <td>HR</td>\n",
       "      <td>28.6</td>\n",
       "    </tr>\n",
       "    <tr>\n",
       "      <th>2</th>\n",
       "      <td>IT</td>\n",
       "      <td>27.8</td>\n",
       "    </tr>\n",
       "    <tr>\n",
       "      <th>3</th>\n",
       "      <td>Marketing</td>\n",
       "      <td>34.6</td>\n",
       "    </tr>\n",
       "    <tr>\n",
       "      <th>4</th>\n",
       "      <td>Sales</td>\n",
       "      <td>31.6</td>\n",
       "    </tr>\n",
       "  </tbody>\n",
       "</table>\n",
       "</div>"
      ],
      "text/plain": [
       "Status Department  Turnover Rate (%)\n",
       "0         Finance               43.8\n",
       "1              HR               28.6\n",
       "2              IT               27.8\n",
       "3       Marketing               34.6\n",
       "4           Sales               31.6"
      ]
     },
     "execution_count": 4,
     "metadata": {},
     "output_type": "execute_result"
    }
   ],
   "source": [
    "turnover_by_dept = df.groupby('Department')['Status'].value_counts().unstack().fillna(0)\n",
    "turnover_by_dept['Turnover Rate (%)'] = (turnover_by_dept['Exited'] / (turnover_by_dept['Active'] + turnover_by_dept['Exited']) * 100).round(1)\n",
    "turnover_by_dept = turnover_by_dept.reset_index()[['Department', 'Turnover Rate (%)']]\n",
    "turnover_by_dept\n"
   ]
  },
  {
   "cell_type": "markdown",
   "id": "3c6acbea",
   "metadata": {},
   "source": [
    "## Step 4: Export Final Report to Excel"
   ]
  },
  {
   "cell_type": "code",
   "execution_count": 5,
   "id": "13bc2e34",
   "metadata": {},
   "outputs": [
    {
     "name": "stdout",
     "output_type": "stream",
     "text": [
      "Saved automated_hr_report.xlsx\n"
     ]
    }
   ],
   "source": [
    "wb = Workbook()\n",
    "ws1 = wb.active\n",
    "ws1.title = \"HR Summary\"\n",
    "ws1[\"A1\"] = \"HR Summary Report\"\n",
    "ws1[\"A1\"].font = Font(bold=True, size=14)\n",
    "\n",
    "row = 3\n",
    "for key, value in report.items():\n",
    "    ws1[f\"A{row}\"] = key\n",
    "    ws1[f\"B{row}\"] = round(value, 2) if isinstance(value, float) else value\n",
    "    row += 1\n",
    "\n",
    "ws2 = wb.create_sheet(\"Tenure by Department\")\n",
    "for r in dataframe_to_rows(avg_tenure_by_dept, index=False, header=True):\n",
    "    ws2.append(r)\n",
    "\n",
    "ws3 = wb.create_sheet(\"Turnover Rate\")\n",
    "for r in dataframe_to_rows(turnover_by_dept, index=False, header=True):\n",
    "    ws3.append(r)\n",
    "\n",
    "wb.save(\"automated_hr_report.xlsx\")\n",
    "print(\"Saved automated_hr_report.xlsx\")\n"
   ]
  },
  {
   "cell_type": "code",
   "execution_count": null,
   "id": "ce5f12bc",
   "metadata": {},
   "outputs": [],
   "source": []
  }
 ],
 "metadata": {
  "kernelspec": {
   "display_name": "Python 3 (ipykernel)",
   "language": "python",
   "name": "python3"
  },
  "language_info": {
   "codemirror_mode": {
    "name": "ipython",
    "version": 3
   },
   "file_extension": ".py",
   "mimetype": "text/x-python",
   "name": "python",
   "nbconvert_exporter": "python",
   "pygments_lexer": "ipython3",
   "version": "3.11.7"
  }
 },
 "nbformat": 4,
 "nbformat_minor": 5
}
