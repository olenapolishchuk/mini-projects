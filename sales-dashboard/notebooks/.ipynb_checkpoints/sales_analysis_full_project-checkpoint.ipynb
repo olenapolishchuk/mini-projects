{
 "cells": [
  {
   "cell_type": "code",
   "execution_count": 4,
   "id": "8e85685b",
   "metadata": {},
   "outputs": [],
   "source": [
    "import pandas as pd\n",
    "import numpy as np\n",
    "import matplotlib.pyplot as plt\n",
    "from statsmodels.tsa.holtwinters import ExponentialSmoothing\n",
    "from sklearn.metrics import mean_absolute_error, mean_squared_error"
   ]
  },
  {
   "cell_type": "code",
   "execution_count": 5,
   "id": "1ee171fe",
   "metadata": {},
   "outputs": [],
   "source": [
    "# ===LOAD RAW DATA ===\n",
    "df = pd.read_csv(\"../data/raw_sales_data.csv\")\n",
    "df.columns = df.columns.str.strip()"
   ]
  },
  {
   "cell_type": "code",
   "execution_count": 6,
   "id": "c49bf15c",
   "metadata": {},
   "outputs": [],
   "source": [
    "# ===CLEANING ===\n",
    "df = df.dropna(subset=[\"Date\"])\n",
    "df = df.drop_duplicates()\n",
    "df[\"Region\"] = df[\"Region\"].fillna(\"Unknown\")\n",
    "df[\"Product\"] = df[\"Product\"].replace(\"\", \"Unknown\").fillna(\"Unknown\")\n",
    "df = df.dropna(subset=[\"Units Sold\", \"Unit Price\"])\n",
    "df[\"Date\"] = pd.to_datetime(df[\"Date\"])\n",
    "df[\"Units Sold\"] = df[\"Units Sold\"].astype(int)\n",
    "df[\"Unit Price\"] = df[\"Unit Price\"].astype(float)\n",
    "df = df[df[\"Units Sold\"] < 5000]\n",
    "df[\"Revenue\"] = df[\"Units Sold\"] * df[\"Unit Price\"]\n",
    "\n",
    "category_map = {\n",
    "    \"Laptop\": \"Tech\",\n",
    "    \"Tablet\": \"Tech\",\n",
    "    \"Phone\": \"Mobile\",\n",
    "    \"Monitor\": \"Accessories\",\n",
    "    \"Unknown\": \"Other\"\n",
    "}\n",
    "df[\"Category\"] = df[\"Product\"].map(category_map).fillna(\"Other\")\n",
    "df[\"Month\"] = df[\"Date\"].dt.to_period(\"M\").astype(str)"
   ]
  },
  {
   "cell_type": "code",
   "execution_count": 7,
   "id": "8f5041a0",
   "metadata": {},
   "outputs": [
    {
     "name": "stdout",
     "output_type": "stream",
     "text": [
      "Total Revenue: 1,412,742.21\n",
      "Total Units Sold: 2,657.00\n",
      "Average Order Value: 2,616.19\n",
      "Revenue per Unit: 531.71\n",
      "Unique Products: 4.00\n",
      "Unique Regions: 4.00\n"
     ]
    }
   ],
   "source": [
    "# ===KPI CALCULATION ===\n",
    "kpi = {\n",
    "    \"Total Revenue\": df[\"Revenue\"].sum(),\n",
    "    \"Total Units Sold\": df[\"Units Sold\"].sum(),\n",
    "    \"Average Order Value\": df[\"Revenue\"].sum() / len(df),\n",
    "    \"Revenue per Unit\": df[\"Revenue\"].sum() / df[\"Units Sold\"].sum(),\n",
    "    \"Unique Products\": df[\"Product\"].nunique(),\n",
    "    \"Unique Regions\": df[\"Region\"].nunique()\n",
    "}\n",
    "for key, val in kpi.items():\n",
    "    print(f\"{key}: {val:,.2f}\")"
   ]
  },
  {
   "cell_type": "code",
   "execution_count": 8,
   "id": "02e52cd7",
   "metadata": {},
   "outputs": [
    {
     "name": "stdout",
     "output_type": "stream",
     "text": [
      "Test MAE: 14362.93\n",
      "Test RMSE: 16428.03\n",
      "Forecast 2023-07: 61,755.81\n",
      "Forecast 2023-08: 58,909.37\n",
      "Forecast 2023-09: 56,062.92\n"
     ]
    },
    {
     "name": "stderr",
     "output_type": "stream",
     "text": [
      "C:\\Users\\olena\\anaconda3\\Lib\\site-packages\\statsmodels\\tsa\\base\\tsa_model.py:473: ValueWarning: No frequency information was provided, so inferred frequency MS will be used.\n",
      "  self._init_dates(dates, freq)\n",
      "C:\\Users\\olena\\anaconda3\\Lib\\site-packages\\statsmodels\\tsa\\holtwinters\\model.py:917: ConvergenceWarning: Optimization failed to converge. Check mle_retvals.\n",
      "  warnings.warn(\n"
     ]
    }
   ],
   "source": [
    "# ===FORECASTING ===\n",
    "df[\"Month\"] = pd.to_datetime(df[\"Date\"]).dt.to_period(\"M\").dt.to_timestamp()\n",
    "monthly = df.groupby(\"Month\")[\"Revenue\"].sum().sort_index()\n",
    "\n",
    "train = monthly.iloc[:-3]\n",
    "test = monthly.iloc[-3:]\n",
    "\n",
    "model = ExponentialSmoothing(train, trend=\"add\", seasonal=None)\n",
    "fitted = model.fit()\n",
    "forecast = fitted.forecast(len(test))\n",
    "mae = mean_absolute_error(test, forecast)\n",
    "rmse = np.sqrt(mean_squared_error(test, forecast))\n",
    "\n",
    "future_dates = pd.date_range(monthly.index[-1] + pd.offsets.MonthBegin(), periods=3, freq=\"MS\")\n",
    "future_forecast = fitted.forecast(len(test) + 3)[-3:]\n",
    "\n",
    "print(f\"Test MAE: {mae:.2f}\")\n",
    "print(f\"Test RMSE: {rmse:.2f}\")\n",
    "for d, val in zip(future_dates.strftime(\"%Y-%m\"), future_forecast):\n",
    "    print(f\"Forecast {d}: {val:,.2f}\")"
   ]
  },
  {
   "cell_type": "code",
   "execution_count": 9,
   "id": "3f36f2c6",
   "metadata": {},
   "outputs": [],
   "source": [
    "# ===EXPORT CLEANED ===\n",
    "df.to_excel(\"cleaned_sales_data.xlsx\", index=False)\n",
    "df.to_csv(\"cleaned_sales_data.csv\", index=False)"
   ]
  },
  {
   "cell_type": "code",
   "execution_count": 10,
   "id": "dd29e80e",
   "metadata": {},
   "outputs": [],
   "source": [
    "# ===SAVE FORECAST PLOT ===\n",
    "plt.figure(figsize=(10, 5))\n",
    "plt.plot(train.index, train.values, label=\"Train\", marker=\"o\")\n",
    "plt.plot(test.index, test.values, label=\"Test (actual)\", marker=\"o\")\n",
    "plt.plot(test.index, forecast.values, label=\"Test (forecast)\", linestyle=\"--\", marker=\"x\")\n",
    "plt.plot(future_dates, future_forecast.values, label=\"Future Forecast\", linestyle=\"--\", marker=\"^\")\n",
    "plt.title(\"Monthly Revenue Forecast with Exponential Smoothing\")\n",
    "plt.xlabel(\"Month\")\n",
    "plt.ylabel(\"Revenue\")\n",
    "plt.legend()\n",
    "plt.grid(True)\n",
    "plt.tight_layout()\n",
    "plt.savefig(\"monthly_forecast_es.png\")\n",
    "plt.close()"
   ]
  },
  {
   "cell_type": "code",
   "execution_count": null,
   "id": "613d66a0",
   "metadata": {},
   "outputs": [],
   "source": []
  }
 ],
 "metadata": {
  "kernelspec": {
   "display_name": "Python 3 (ipykernel)",
   "language": "python",
   "name": "python3"
  },
  "language_info": {
   "codemirror_mode": {
    "name": "ipython",
    "version": 3
   },
   "file_extension": ".py",
   "mimetype": "text/x-python",
   "name": "python",
   "nbconvert_exporter": "python",
   "pygments_lexer": "ipython3",
   "version": "3.11.7"
  }
 },
 "nbformat": 4,
 "nbformat_minor": 5
}
