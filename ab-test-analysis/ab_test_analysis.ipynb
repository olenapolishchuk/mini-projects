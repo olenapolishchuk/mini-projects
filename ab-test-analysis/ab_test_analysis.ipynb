{
 "cells": [
  {
   "cell_type": "markdown",
   "id": "2f8b432e",
   "metadata": {},
   "source": [
    "# 📊 A/B Test Analysis \n",
    "\n",
    "In this notebook, we analyze A/B test results using both conversion rate and revenue to determine if group B performs significantly better than group A."
   ]
  },
  {
   "cell_type": "code",
   "execution_count": 1,
   "id": "ee7b07e6",
   "metadata": {},
   "outputs": [
    {
     "data": {
      "text/html": [
       "<div>\n",
       "<style scoped>\n",
       "    .dataframe tbody tr th:only-of-type {\n",
       "        vertical-align: middle;\n",
       "    }\n",
       "\n",
       "    .dataframe tbody tr th {\n",
       "        vertical-align: top;\n",
       "    }\n",
       "\n",
       "    .dataframe thead th {\n",
       "        text-align: right;\n",
       "    }\n",
       "</style>\n",
       "<table border=\"1\" class=\"dataframe\">\n",
       "  <thead>\n",
       "    <tr style=\"text-align: right;\">\n",
       "      <th></th>\n",
       "      <th>user_id</th>\n",
       "      <th>group</th>\n",
       "      <th>converted</th>\n",
       "      <th>revenue</th>\n",
       "    </tr>\n",
       "  </thead>\n",
       "  <tbody>\n",
       "    <tr>\n",
       "      <th>0</th>\n",
       "      <td>A_0</td>\n",
       "      <td>A</td>\n",
       "      <td>0</td>\n",
       "      <td>0.00</td>\n",
       "    </tr>\n",
       "    <tr>\n",
       "      <th>1</th>\n",
       "      <td>A_1</td>\n",
       "      <td>A</td>\n",
       "      <td>1</td>\n",
       "      <td>41.73</td>\n",
       "    </tr>\n",
       "    <tr>\n",
       "      <th>2</th>\n",
       "      <td>A_2</td>\n",
       "      <td>A</td>\n",
       "      <td>0</td>\n",
       "      <td>0.00</td>\n",
       "    </tr>\n",
       "    <tr>\n",
       "      <th>3</th>\n",
       "      <td>A_3</td>\n",
       "      <td>A</td>\n",
       "      <td>0</td>\n",
       "      <td>0.00</td>\n",
       "    </tr>\n",
       "    <tr>\n",
       "      <th>4</th>\n",
       "      <td>A_4</td>\n",
       "      <td>A</td>\n",
       "      <td>0</td>\n",
       "      <td>0.00</td>\n",
       "    </tr>\n",
       "  </tbody>\n",
       "</table>\n",
       "</div>"
      ],
      "text/plain": [
       "  user_id group  converted  revenue\n",
       "0     A_0     A          0     0.00\n",
       "1     A_1     A          1    41.73\n",
       "2     A_2     A          0     0.00\n",
       "3     A_3     A          0     0.00\n",
       "4     A_4     A          0     0.00"
      ]
     },
     "execution_count": 1,
     "metadata": {},
     "output_type": "execute_result"
    }
   ],
   "source": [
    "import pandas as pd\n",
    "import matplotlib.pyplot as plt\n",
    "import seaborn as sns\n",
    "from scipy import stats\n",
    "\n",
    "# Load dataset\n",
    "df = pd.read_csv(\"ab_test.csv\")\n",
    "df.head()"
   ]
  },
  {
   "cell_type": "markdown",
   "id": "3f372aad",
   "metadata": {},
   "source": [
    "## 📈 Summary by Group"
   ]
  },
  {
   "cell_type": "code",
   "execution_count": 2,
   "id": "838caef6",
   "metadata": {},
   "outputs": [
    {
     "data": {
      "text/html": [
       "<div>\n",
       "<style scoped>\n",
       "    .dataframe tbody tr th:only-of-type {\n",
       "        vertical-align: middle;\n",
       "    }\n",
       "\n",
       "    .dataframe tbody tr th {\n",
       "        vertical-align: top;\n",
       "    }\n",
       "\n",
       "    .dataframe thead th {\n",
       "        text-align: right;\n",
       "    }\n",
       "</style>\n",
       "<table border=\"1\" class=\"dataframe\">\n",
       "  <thead>\n",
       "    <tr style=\"text-align: right;\">\n",
       "      <th></th>\n",
       "      <th>users</th>\n",
       "      <th>conversions</th>\n",
       "      <th>conversion_rate</th>\n",
       "      <th>average_revenue</th>\n",
       "      <th>revenue_if_converted</th>\n",
       "    </tr>\n",
       "    <tr>\n",
       "      <th>group</th>\n",
       "      <th></th>\n",
       "      <th></th>\n",
       "      <th></th>\n",
       "      <th></th>\n",
       "      <th></th>\n",
       "    </tr>\n",
       "  </thead>\n",
       "  <tbody>\n",
       "    <tr>\n",
       "      <th>A</th>\n",
       "      <td>1000</td>\n",
       "      <td>124</td>\n",
       "      <td>0.124</td>\n",
       "      <td>6.21331</td>\n",
       "      <td>50.107339</td>\n",
       "    </tr>\n",
       "    <tr>\n",
       "      <th>B</th>\n",
       "      <td>1000</td>\n",
       "      <td>152</td>\n",
       "      <td>0.152</td>\n",
       "      <td>8.48317</td>\n",
       "      <td>55.810329</td>\n",
       "    </tr>\n",
       "  </tbody>\n",
       "</table>\n",
       "</div>"
      ],
      "text/plain": [
       "       users  conversions  conversion_rate  average_revenue  \\\n",
       "group                                                         \n",
       "A       1000          124            0.124          6.21331   \n",
       "B       1000          152            0.152          8.48317   \n",
       "\n",
       "       revenue_if_converted  \n",
       "group                        \n",
       "A                 50.107339  \n",
       "B                 55.810329  "
      ]
     },
     "execution_count": 2,
     "metadata": {},
     "output_type": "execute_result"
    }
   ],
   "source": [
    "# Grouped summary: count, conversion rate, average revenue\n",
    "summary = df.groupby(\"group\").agg(\n",
    "    users=('user_id', 'count'),\n",
    "    conversions=('converted', 'sum'),\n",
    "    conversion_rate=('converted', 'mean'),\n",
    "    average_revenue=('revenue', 'mean'),\n",
    "    revenue_if_converted=('revenue', lambda x: x[x > 0].mean())\n",
    ")\n",
    "summary"
   ]
  },
  {
   "cell_type": "markdown",
   "id": "df48c435",
   "metadata": {},
   "source": [
    "## 🧪 Hypothesis Testing\n",
    "We will test:\n",
    "1. Conversion rate (binary)\n",
    "2. Revenue per user"
   ]
  },
  {
   "cell_type": "code",
   "execution_count": 3,
   "id": "c1add86b",
   "metadata": {},
   "outputs": [
    {
     "name": "stdout",
     "output_type": "stream",
     "text": [
      "🔹 Conversion Rate:\n",
      "T-statistic = -1.8159, P-value = 0.0695\n",
      "❌ Not significant\n",
      "\n",
      "🔹 Revenue per User:\n",
      "T-statistic = -2.7047, P-value = 0.0069\n",
      "✅ Significant\n"
     ]
    }
   ],
   "source": [
    "# Split groups\n",
    "group_A = df[df[\"group\"] == \"A\"]\n",
    "group_B = df[df[\"group\"] == \"B\"]\n",
    "\n",
    "# T-test: conversion\n",
    "t_stat_conv, p_val_conv = stats.ttest_ind(group_A[\"converted\"], group_B[\"converted\"], equal_var=False)\n",
    "\n",
    "# T-test: revenue\n",
    "t_stat_rev, p_val_rev = stats.ttest_ind(group_A[\"revenue\"], group_B[\"revenue\"], equal_var=False)\n",
    "\n",
    "print(\"🔹 Conversion Rate:\")\n",
    "print(f\"T-statistic = {t_stat_conv:.4f}, P-value = {p_val_conv:.4f}\")\n",
    "print(\"✅ Significant\" if p_val_conv < 0.05 else \"❌ Not significant\")\n",
    "\n",
    "print(\"\\n🔹 Revenue per User:\")\n",
    "print(f\"T-statistic = {t_stat_rev:.4f}, P-value = {p_val_rev:.4f}\")\n",
    "print(\"✅ Significant\" if p_val_rev < 0.05 else \"❌ Not significant\")"
   ]
  },
  {
   "cell_type": "markdown",
   "id": "eef65b0f",
   "metadata": {},
   "source": [
    "## 📊 Visualizations"
   ]
  },
  {
   "cell_type": "code",
   "execution_count": 4,
   "id": "2ca05598",
   "metadata": {},
   "outputs": [
    {
     "data": {
      "image/png": "[encoded data removed]",
      "text/plain": [
       "<Figure size 640x480 with 1 Axes>"
      ]
     },
     "metadata": {},
     "output_type": "display_data"
    }
   ],
   "source": [
    "# Conversion rate barplot\n",
    "sns.barplot(data=df, x=\"group\", y=\"converted\", errorbar=('ci', 95))\n",
    "plt.title(\"Conversion Rate by Group\")\n",
    "plt.ylabel(\"Conversion Rate\")\n",
    "plt.grid(True)\n",
    "plt.show()"
   ]
  },
  {
   "cell_type": "code",
   "execution_count": 5,
   "id": "b34cb391",
   "metadata": {},
   "outputs": [
    {
     "data": {
      "image/png": "[encoded data removed]",
      "text/plain": [
       "<Figure size 640x480 with 1 Axes>"
      ]
     },
     "metadata": {},
     "output_type": "display_data"
    }
   ],
   "source": [
    "# Revenue distribution\n",
    "sns.boxplot(data=df, x=\"group\", y=\"revenue\")\n",
    "plt.title(\"Revenue Distribution by Group\")\n",
    "plt.grid(True)\n",
    "plt.show()"
   ]
  }
 ],
 "metadata": {
  "kernelspec": {
   "display_name": "Python 3 (ipykernel)",
   "language": "python",
   "name": "python3"
  },
  "language_info": {
   "codemirror_mode": {
    "name": "ipython",
    "version": 3
   },
   "file_extension": ".py",
   "mimetype": "text/x-python",
   "name": "python",
   "nbconvert_exporter": "python",
   "pygments_lexer": "ipython3",
   "version": "3.11.7"
  }
 },
 "nbformat": 4,
 "nbformat_minor": 5
}
